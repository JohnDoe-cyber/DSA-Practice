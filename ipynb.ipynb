{
 "metadata": {
  "language_info": {
   "codemirror_mode": {
    "name": "ipython",
    "version": 3
   },
   "file_extension": ".py",
   "mimetype": "text/x-python",
   "name": "python",
   "nbconvert_exporter": "python",
   "pygments_lexer": "ipython3",
   "version": "3.7.10"
  },
  "orig_nbformat": 4,
  "kernelspec": {
   "name": "python3",
   "display_name": "Python 3.7.10 64-bit ('viz': conda)"
  },
  "interpreter": {
   "hash": "5fb3d659d3250c9e681b1ff913e01c276346761ba4a993abe22d148203944189"
  }
 },
 "nbformat": 4,
 "nbformat_minor": 2,
 "cells": [
  {
   "cell_type": "code",
   "execution_count": 6,
   "metadata": {},
   "outputs": [],
   "source": [
    "import pandas as pd"
   ]
  },
  {
   "cell_type": "code",
   "execution_count": 7,
   "metadata": {},
   "outputs": [],
   "source": [
    "import os"
   ]
  },
  {
   "cell_type": "code",
   "execution_count": 8,
   "metadata": {},
   "outputs": [
    {
     "output_type": "execute_result",
     "data": {
      "text/plain": [
       "'/home/dgk/Documents/Codes/2_IDE coding/DS and Algo/'"
      ]
     },
     "metadata": {},
     "execution_count": 8
    }
   ],
   "source": [
    "os.getcwd()[:-5]"
   ]
  },
  {
   "cell_type": "code",
   "execution_count": 9,
   "metadata": {},
   "outputs": [],
   "source": [
    "xxx = os.path.join(os.getcwd()[:-5], 'FINAL450.xls')"
   ]
  },
  {
   "cell_type": "code",
   "execution_count": null,
   "metadata": {},
   "outputs": [],
   "source": []
  },
  {
   "cell_type": "code",
   "execution_count": null,
   "metadata": {},
   "outputs": [],
   "source": []
  },
  {
   "cell_type": "code",
   "execution_count": null,
   "metadata": {},
   "outputs": [],
   "source": []
  },
  {
   "cell_type": "code",
   "execution_count": 10,
   "metadata": {},
   "outputs": [],
   "source": [
    "df = pd.read_excel(xxx)"
   ]
  },
  {
   "cell_type": "code",
   "execution_count": 11,
   "metadata": {},
   "outputs": [
    {
     "output_type": "execute_result",
     "data": {
      "text/plain": [
       "   Unnamed: 0                         Questions by Uncle Babbar:  \\\n",
       "0         NaN                                                NaN   \n",
       "1         NaN                              Yellow to do it again   \n",
       "2         NaN                                           For done   \n",
       "3         NaN                                                NaN   \n",
       "4         NaN                                                NaN   \n",
       "5         NaN                                                NaN   \n",
       "6         NaN                                                NaN   \n",
       "7      Topic:                                          Problem:    \n",
       "8         NaN                                                NaN   \n",
       "9       Array                                  Reverse the array   \n",
       "10      Array   Find the maximum and minimum element in an array   \n",
       "11      Array    Find the \"Kth\" max and min element of an array    \n",
       "12      Array  Given an array which consists of only 0, 1 and...   \n",
       "13      Array  Move all the negative elements to one side of ...   \n",
       "14      Array  Find the Union and Intersection of the two sor...   \n",
       "\n",
       "           Unnamed: 2 Unnamed: 3  \n",
       "0                 NaN        NaN  \n",
       "1                 NaN        NaN  \n",
       "2                 NaN        NaN  \n",
       "3                 NaN        NaN  \n",
       "4                 NaN        NaN  \n",
       "5                 NaN        NaN  \n",
       "6                 NaN        NaN  \n",
       "7   Done [yes or no]         NaN  \n",
       "8                 NaN        NaN  \n",
       "9               <yes>        NaN  \n",
       "10              <yes>        NaN  \n",
       "11                <->        NaN  \n",
       "12              <yes>        NaN  \n",
       "13                <->        NaN  \n",
       "14                <->        NaN  "
      ],
      "text/html": "<div>\n<style scoped>\n    .dataframe tbody tr th:only-of-type {\n        vertical-align: middle;\n    }\n\n    .dataframe tbody tr th {\n        vertical-align: top;\n    }\n\n    .dataframe thead th {\n        text-align: right;\n    }\n</style>\n<table border=\"1\" class=\"dataframe\">\n  <thead>\n    <tr style=\"text-align: right;\">\n      <th></th>\n      <th>Unnamed: 0</th>\n      <th>Questions by Uncle Babbar:</th>\n      <th>Unnamed: 2</th>\n      <th>Unnamed: 3</th>\n    </tr>\n  </thead>\n  <tbody>\n    <tr>\n      <th>0</th>\n      <td>NaN</td>\n      <td>NaN</td>\n      <td>NaN</td>\n      <td>NaN</td>\n    </tr>\n    <tr>\n      <th>1</th>\n      <td>NaN</td>\n      <td>Yellow to do it again</td>\n      <td>NaN</td>\n      <td>NaN</td>\n    </tr>\n    <tr>\n      <th>2</th>\n      <td>NaN</td>\n      <td>For done</td>\n      <td>NaN</td>\n      <td>NaN</td>\n    </tr>\n    <tr>\n      <th>3</th>\n      <td>NaN</td>\n      <td>NaN</td>\n      <td>NaN</td>\n      <td>NaN</td>\n    </tr>\n    <tr>\n      <th>4</th>\n      <td>NaN</td>\n      <td>NaN</td>\n      <td>NaN</td>\n      <td>NaN</td>\n    </tr>\n    <tr>\n      <th>5</th>\n      <td>NaN</td>\n      <td>NaN</td>\n      <td>NaN</td>\n      <td>NaN</td>\n    </tr>\n    <tr>\n      <th>6</th>\n      <td>NaN</td>\n      <td>NaN</td>\n      <td>NaN</td>\n      <td>NaN</td>\n    </tr>\n    <tr>\n      <th>7</th>\n      <td>Topic:</td>\n      <td>Problem:</td>\n      <td>Done [yes or no]</td>\n      <td>NaN</td>\n    </tr>\n    <tr>\n      <th>8</th>\n      <td>NaN</td>\n      <td>NaN</td>\n      <td>NaN</td>\n      <td>NaN</td>\n    </tr>\n    <tr>\n      <th>9</th>\n      <td>Array</td>\n      <td>Reverse the array</td>\n      <td>&lt;yes&gt;</td>\n      <td>NaN</td>\n    </tr>\n    <tr>\n      <th>10</th>\n      <td>Array</td>\n      <td>Find the maximum and minimum element in an array</td>\n      <td>&lt;yes&gt;</td>\n      <td>NaN</td>\n    </tr>\n    <tr>\n      <th>11</th>\n      <td>Array</td>\n      <td>Find the \"Kth\" max and min element of an array</td>\n      <td>&lt;-&gt;</td>\n      <td>NaN</td>\n    </tr>\n    <tr>\n      <th>12</th>\n      <td>Array</td>\n      <td>Given an array which consists of only 0, 1 and...</td>\n      <td>&lt;yes&gt;</td>\n      <td>NaN</td>\n    </tr>\n    <tr>\n      <th>13</th>\n      <td>Array</td>\n      <td>Move all the negative elements to one side of ...</td>\n      <td>&lt;-&gt;</td>\n      <td>NaN</td>\n    </tr>\n    <tr>\n      <th>14</th>\n      <td>Array</td>\n      <td>Find the Union and Intersection of the two sor...</td>\n      <td>&lt;-&gt;</td>\n      <td>NaN</td>\n    </tr>\n  </tbody>\n</table>\n</div>"
     },
     "metadata": {},
     "execution_count": 11
    }
   ],
   "source": [
    "df.head(15)"
   ]
  },
  {
   "cell_type": "code",
   "execution_count": 12,
   "metadata": {},
   "outputs": [
    {
     "output_type": "execute_result",
     "data": {
      "text/plain": [
       "Index(['Unnamed: 0', 'Questions by Uncle Babbar:', 'Unnamed: 2', 'Unnamed: 3'], dtype='object')"
      ]
     },
     "metadata": {},
     "execution_count": 12
    }
   ],
   "source": [
    "df.columns"
   ]
  },
  {
   "cell_type": "code",
   "execution_count": 13,
   "metadata": {},
   "outputs": [
    {
     "output_type": "execute_result",
     "data": {
      "text/plain": [
       "           Unnamed: 0                         Questions by Uncle Babbar:  \\\n",
       "11              Array    Find the \"Kth\" max and min element of an array    \n",
       "13              Array  Move all the negative elements to one side of ...   \n",
       "14              Array  Find the Union and Intersection of the two sor...   \n",
       "16              Array      find Largest sum contiguous Subarray [V. IMP]   \n",
       "17              Array  Minimise the maximum difference between height...   \n",
       "..                ...                                                ...   \n",
       "480  Bit Manipulation                  Find position of the only set bit   \n",
       "481  Bit Manipulation                           Copy set bits in a range   \n",
       "482  Bit Manipulation  Divide two integers without using multiplicati...   \n",
       "483  Bit Manipulation  Calculate square of a number without using *, ...   \n",
       "484  Bit Manipulation                                          Power Set   \n",
       "\n",
       "    Unnamed: 2 Unnamed: 3  \n",
       "11         <->        NaN  \n",
       "13         <->        NaN  \n",
       "14         <->        NaN  \n",
       "16         <->        NaN  \n",
       "17         <->        NaN  \n",
       "..         ...        ...  \n",
       "480        <->        NaN  \n",
       "481        <->        NaN  \n",
       "482        <->        NaN  \n",
       "483        <->        NaN  \n",
       "484        <->        NaN  \n",
       "\n",
       "[404 rows x 4 columns]"
      ],
      "text/html": "<div>\n<style scoped>\n    .dataframe tbody tr th:only-of-type {\n        vertical-align: middle;\n    }\n\n    .dataframe tbody tr th {\n        vertical-align: top;\n    }\n\n    .dataframe thead th {\n        text-align: right;\n    }\n</style>\n<table border=\"1\" class=\"dataframe\">\n  <thead>\n    <tr style=\"text-align: right;\">\n      <th></th>\n      <th>Unnamed: 0</th>\n      <th>Questions by Uncle Babbar:</th>\n      <th>Unnamed: 2</th>\n      <th>Unnamed: 3</th>\n    </tr>\n  </thead>\n  <tbody>\n    <tr>\n      <th>11</th>\n      <td>Array</td>\n      <td>Find the \"Kth\" max and min element of an array</td>\n      <td>&lt;-&gt;</td>\n      <td>NaN</td>\n    </tr>\n    <tr>\n      <th>13</th>\n      <td>Array</td>\n      <td>Move all the negative elements to one side of ...</td>\n      <td>&lt;-&gt;</td>\n      <td>NaN</td>\n    </tr>\n    <tr>\n      <th>14</th>\n      <td>Array</td>\n      <td>Find the Union and Intersection of the two sor...</td>\n      <td>&lt;-&gt;</td>\n      <td>NaN</td>\n    </tr>\n    <tr>\n      <th>16</th>\n      <td>Array</td>\n      <td>find Largest sum contiguous Subarray [V. IMP]</td>\n      <td>&lt;-&gt;</td>\n      <td>NaN</td>\n    </tr>\n    <tr>\n      <th>17</th>\n      <td>Array</td>\n      <td>Minimise the maximum difference between height...</td>\n      <td>&lt;-&gt;</td>\n      <td>NaN</td>\n    </tr>\n    <tr>\n      <th>...</th>\n      <td>...</td>\n      <td>...</td>\n      <td>...</td>\n      <td>...</td>\n    </tr>\n    <tr>\n      <th>480</th>\n      <td>Bit Manipulation</td>\n      <td>Find position of the only set bit</td>\n      <td>&lt;-&gt;</td>\n      <td>NaN</td>\n    </tr>\n    <tr>\n      <th>481</th>\n      <td>Bit Manipulation</td>\n      <td>Copy set bits in a range</td>\n      <td>&lt;-&gt;</td>\n      <td>NaN</td>\n    </tr>\n    <tr>\n      <th>482</th>\n      <td>Bit Manipulation</td>\n      <td>Divide two integers without using multiplicati...</td>\n      <td>&lt;-&gt;</td>\n      <td>NaN</td>\n    </tr>\n    <tr>\n      <th>483</th>\n      <td>Bit Manipulation</td>\n      <td>Calculate square of a number without using *, ...</td>\n      <td>&lt;-&gt;</td>\n      <td>NaN</td>\n    </tr>\n    <tr>\n      <th>484</th>\n      <td>Bit Manipulation</td>\n      <td>Power Set</td>\n      <td>&lt;-&gt;</td>\n      <td>NaN</td>\n    </tr>\n  </tbody>\n</table>\n<p>404 rows × 4 columns</p>\n</div>"
     },
     "metadata": {},
     "execution_count": 13
    }
   ],
   "source": [
    "df[df['Unnamed: 2'] == '<->']"
   ]
  },
  {
   "cell_type": "code",
   "execution_count": 14,
   "metadata": {},
   "outputs": [
    {
     "output_type": "execute_result",
     "data": {
      "text/plain": [
       "404"
      ]
     },
     "metadata": {},
     "execution_count": 14
    }
   ],
   "source": [
    "len(df[df['Unnamed: 2'] == '<->'])"
   ]
  },
  {
   "cell_type": "code",
   "execution_count": null,
   "metadata": {},
   "outputs": [],
   "source": []
  }
 ]
}